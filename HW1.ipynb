{
 "cells": [
  {
   "cell_type": "markdown",
   "metadata": {
    "deletable": false,
    "editable": false,
    "nbgrader": {
     "checksum": "a43c6ad0f07f225be26cedab02abc85b",
     "grade": false,
     "grade_id": "cell-a80f8ea27a01098a",
     "locked": true,
     "schema_version": 1,
     "solution": false
    }
   },
   "source": [
    "# Homework 1 - \n",
    "**Problem 1**\n",
    "If statement:\n",
    "\n",
    "Given an integer n, perform the following conditional actions:\n",
    "\n",
    "    If n is odd, set output to \"Hello World\"\n",
    "    If n is even and in the inclusive range of 2 to 5, set output to \"Goodbye World\"\n",
    "    If n is even and in the inclusive range of 6 to 20, set output to \"Hello World\"\n",
    "    If n is even and greater than 20, set output to \"Goodbye World\"\n",
    "\n",
    "Example:\n",
    "\n",
    "input: \n",
    "    \n",
    "    n = 2\n",
    "\n",
    "output:\n",
    "\n",
    "    output = \"Goodbye World\""
   ]
  },
  {
   "cell_type": "code",
   "execution_count": 1,
   "metadata": {
    "deletable": false,
    "nbgrader": {
     "checksum": "9cb2db7e44c0d6d495f1e9b9fd29a2e6",
     "grade": false,
     "grade_id": "cell-8ce4028ecf5e6219",
     "locked": false,
     "schema_version": 1,
     "solution": true
    }
   },
   "outputs": [],
   "source": [
    "n = 3\n",
    "\n",
    "def problem1(n):\n",
    "    output = 0\n",
    "    \n",
    "    if n % 2 != 0: # if n is odd\n",
    "        output = 'Hello World'\n",
    "    elif n >= 2 and n <= 5:\n",
    "        output = 'Goodbye World'\n",
    "    elif n >= 6 and n <= 20:\n",
    "        output = 'Hello World'\n",
    "    else:\n",
    "        output = 'Goodbye World'\n",
    "    \n",
    "    return(output)"
   ]
  },
  {
   "cell_type": "code",
   "execution_count": 2,
   "metadata": {
    "deletable": false,
    "editable": false,
    "nbgrader": {
     "checksum": "b5d79b26d8c1995042b572263fe96079",
     "grade": true,
     "grade_id": "cell-265d8840d2710be9",
     "locked": true,
     "points": 25,
     "schema_version": 1,
     "solution": false
    }
   },
   "outputs": [],
   "source": [
    "# Test cases for Problem Set 1\n",
    "assert problem1(3) == \"Hello World\"\n",
    "assert problem1(2) == \"Goodbye World\"\n",
    "assert problem1(18) == \"Hello World\""
   ]
  },
  {
   "cell_type": "code",
   "execution_count": 3,
   "metadata": {
    "deletable": false,
    "editable": false,
    "nbgrader": {
     "checksum": "d44a466090aa96afff033e25d3b9b7e8",
     "grade": true,
     "grade_id": "cell-fa5f8649a0295e07",
     "locked": true,
     "points": 25,
     "schema_version": 1,
     "solution": false
    }
   },
   "outputs": [],
   "source": [
    "assert problem1(29) == \"Hello World\"\n",
    "assert problem1(24) == \"Goodbye World\""
   ]
  },
  {
   "cell_type": "markdown",
   "metadata": {
    "deletable": false,
    "editable": false,
    "nbgrader": {
     "checksum": "f00e769b934d32864c2f9e2f99eff2c8",
     "grade": false,
     "grade_id": "cell-f74c659b037dbebc",
     "locked": true,
     "schema_version": 1,
     "solution": false
    }
   },
   "source": [
    "**Problem 2**\n",
    "(For-loop, basic list manipulation)\n",
    "\n",
    "You and $K-1$ friends want to buy $N$ different pieces of candy.  Candy piece $i$ costs $p_i$. The candy shop owner is greedy and wants to maximize his number of new customers, so he increases the sale price of the candy for repeated customers; more precisely, if a customer has already purchased $x$ pieces of candy, then the cost of candy $i$ is $C_i*(x+1)$.\n",
    "\n",
    "Find and print the minimum cost for your group to purchase all $N$ pieces of candy.\n",
    "\n",
    "The input:\n",
    "\n",
    "    N: the number of candies to buy\n",
    "    K: the number of people\n",
    "    C: the cost of candy\n",
    "\n",
    "The output:\n",
    "\n",
    "    the total cost\n",
    "\n",
    "**Hint:** You may want to use the list comprehension function.\n",
    "\n",
    "\n",
    "Example:\n",
    "\n",
    "Input:\n",
    "\n",
    "    N: 4\n",
    "    K: 2\n",
    "    C: [1,3,4,5]\n",
    "\n",
    "Output:\n",
    "\n",
    "    cost = 4 + 5 + 3 * 2 + 1 * 2 = 17\n",
    "\n",
    "(Why 17 is the minimum cost in this case? You would always like your group to purchase the most expensive candies first. In this way, you will get the multipliers on candy costs for the cheap candies. In this case, two people in your group first purchase candies with costs 4 and 5. And then they will purchase candies with costs 3 and 1. When purchasing candies with costs 3 and 1, both of persons in your group are repeated customers, so they pay 3\\*2 and 1\\*2.)\n"
   ]
  },
  {
   "cell_type": "code",
   "execution_count": 4,
   "metadata": {
    "deletable": false,
    "nbgrader": {
     "checksum": "9f40a7eb43cca423bb8cc1011eb1b887",
     "grade": false,
     "grade_id": "cell-5ad1d968ba47b22c",
     "locked": false,
     "schema_version": 1,
     "solution": true
    }
   },
   "outputs": [],
   "source": [
    "#Uncomment to fix the test case\n",
    "import random\n",
    "N=random.randint(1,100) \n",
    "K=random.randint(1,100)   \n",
    "C = [random.randint(1,1000) for i in range(N)]\n",
    "\n",
    "def problem2(N, K, C):\n",
    "    #sort costs decreasing\n",
    "    C = sorted(C,reverse = True)\n",
    "    \n",
    "    #variable to store the cost\n",
    "    cost = 0\n",
    "    \n",
    "    if N % K == 0:\n",
    "        num = N/K\n",
    "    else:\n",
    "        num = int(N/K) + 1\n",
    "    \n",
    "    rep_num = list(range(1, int(num+1)))\n",
    "    rep_num = rep_num*K\n",
    "    rep_num = sorted(rep_num)\n",
    "\n",
    "    for i in range(len(C)):\n",
    "        cost += C[i]*rep_num[i]\n",
    "\n",
    "    return(cost)\n"
   ]
  },
  {
   "cell_type": "code",
   "execution_count": 5,
   "metadata": {
    "deletable": false,
    "editable": false,
    "nbgrader": {
     "checksum": "54799a92ad3e37a53794bc6cd6da5262",
     "grade": true,
     "grade_id": "cell-b6244c846cd441c4",
     "locked": true,
     "points": 25,
     "schema_version": 1,
     "solution": false
    }
   },
   "outputs": [],
   "source": [
    "random.seed(100)\n",
    "N=random.randint(1,100) \n",
    "K=random.randint(1,100)   \n",
    "C = [random.randint(1,1000) for i in range(N)]\n",
    "assert problem2(N, K, C) == 8838"
   ]
  },
  {
   "cell_type": "code",
   "execution_count": 6,
   "metadata": {
    "deletable": false,
    "editable": false,
    "nbgrader": {
     "checksum": "c5d50bdf82ba4bcfe1c2ad1de2432444",
     "grade": true,
     "grade_id": "cell-062e4c6c399bd36f",
     "locked": true,
     "points": 25,
     "schema_version": 1,
     "solution": false
    }
   },
   "outputs": [],
   "source": [
    "random.seed(10)\n",
    "N=random.randint(1,100) \n",
    "K=random.randint(1,100)   \n",
    "C = [random.randint(1,1000) for i in range(N)]\n",
    "assert problem2(N, K, C) == 193878"
   ]
  }
 ],
 "metadata": {
  "kernelspec": {
   "display_name": "Python 3",
   "language": "python",
   "name": "python3"
  },
  "language_info": {
   "codemirror_mode": {
    "name": "ipython",
    "version": 3
   },
   "file_extension": ".py",
   "mimetype": "text/x-python",
   "name": "python",
   "nbconvert_exporter": "python",
   "pygments_lexer": "ipython3",
   "version": "3.6.5"
  }
 },
 "nbformat": 4,
 "nbformat_minor": 2
}
